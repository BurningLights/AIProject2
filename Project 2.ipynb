{
 "cells": [
  {
   "cell_type": "code",
   "execution_count": 1,
   "metadata": {
    "collapsed": false
   },
   "outputs": [],
   "source": [
    "def hill_climb_iteration(function_to_optimize, step_size, start_x, start_y, xmin, xmax, ymin, ymax, plot=None):\n",
    "    from mpl_toolkits.mplot3d import Axes3D\n",
    "    import matplotlib.pyplot as pyplot\n",
    "    import random\n",
    "    random.seed()\n",
    "    \n",
    "    # Start at given position and go from there\n",
    "    x = start_x\n",
    "    y = start_y\n",
    "    num_repeats = 0\n",
    "    # Find current min for starting spot\n",
    "    current_min = function_to_optimize(x, y)\n",
    "    \n",
    "    # Plot starting spot\n",
    "    if plot != None:\n",
    "        plot.scatter(x, y, current_min, c='r')\n",
    "    \n",
    "    while num_repeats < 100:\n",
    "        # Randomly pick which direction to go\n",
    "        newx = x\n",
    "        newy = y\n",
    "        direction = random.randint(0, 3)\n",
    "        if direction == 0:\n",
    "            # Go left\n",
    "            newx -= step_size\n",
    "        elif direction == 1:\n",
    "            # Go right\n",
    "            newx += step_size\n",
    "        elif direction == 2:\n",
    "            # Go up\n",
    "            newy += step_size\n",
    "        elif direction == 3:\n",
    "            # Go down\n",
    "            newy -= step_size\n",
    "            \n",
    "        if function_to_optimize(newx, newy) < current_min:\n",
    "            # Good move\n",
    "            x = newx\n",
    "            y = newy\n",
    "            current_min = function_to_optimize(x, y)\n",
    "            num_repeats = 0\n",
    "            \n",
    "            # Plot new position\n",
    "            if plot != None:\n",
    "                plot.scatter(x, y, current_min, c='r')\n",
    "        else:\n",
    "        # Movement did not yield an increase in the function\n",
    "            num_repeats += 1\n",
    "            \n",
    "    # Found minimum\n",
    "    return x, y"
   ]
  },
  {
   "cell_type": "code",
   "execution_count": 2,
   "metadata": {
    "collapsed": true
   },
   "outputs": [],
   "source": [
    "def hill_climb(function_to_optimize, step_size, xmin, xmax, ymin, ymax, plot=None):\n",
    "    from mpl_toolkits.mplot3d import Axes3D\n",
    "    import matplotlib.pyplot as pyplot\n",
    "    import random\n",
    "    random.seed()\n",
    "    \n",
    "    # Do a single hill climb iteration starting at random position\n",
    "    startx = random.uniform(xmin, xmax)\n",
    "    starty = random.uniform(ymin, ymax)\n",
    "    x, y = hill_climb_iteration(function_to_optimize, step_size, startx, starty, xmin, xmax, ymin, ymax, plot)\n",
    "    if plot != None:\n",
    "        # Offset z a little so appears on top\n",
    "        plot.scatter(x, y, function_to_optimize(x, y) + 0.01, c='y', marker='^', s=80)\n",
    "    \n",
    "    return x, y"
   ]
  },
  {
   "cell_type": "code",
   "execution_count": 3,
   "metadata": {
    "collapsed": false
   },
   "outputs": [],
   "source": [
    "def hill_climb_random_restart(function_to_optimize, step_size, num_restarts, xmin, xmax, ymin, ymax, plot=None):\n",
    "    from mpl_toolkits.mplot3d import Axes3D\n",
    "    import matplotlib.pyplot as pyplot\n",
    "    # Seed random numbers\n",
    "    import random\n",
    "    random.seed()\n",
    "    \n",
    "    # Do first iteration of hill climbing at random position to find initial min\n",
    "    x = random.uniform(xmin, xmax)\n",
    "    y = random.uniform(ymin, ymax)\n",
    "    min_x, min_y = hill_climb_iteration(function_to_optimize, step_size, x, y, xmin, xmax, ymin, ymax, plot)\n",
    "    current_min = function_to_optimize(min_x, min_y)\n",
    "    # Already did first iteration\n",
    "    restarts_left = num_restarts - 1\n",
    "    \n",
    "    # Do the requested number of random restarts\n",
    "    while restarts_left > 0:\n",
    "        # Randomly pick starting x and y, and randomly pick sign\n",
    "        x = random.uniform(xmin, xmax)\n",
    "        y = random.uniform(ymin, ymax)\n",
    "        \n",
    "        # Do hill climbing for those starting values\n",
    "        x, y = hill_climb_iteration(function_to_optimize, step_size, x, y, xmin, xmax, ymin, ymax, plot)\n",
    "        result = function_to_optimize(x, y)\n",
    "        \n",
    "        # Check if result is new min\n",
    "        if result < current_min:\n",
    "            current_min = result\n",
    "            min_x = x\n",
    "            min_y = y\n",
    "            \n",
    "        restarts_left -= 1\n",
    "    \n",
    "    if plot != None:\n",
    "        # Offset z a little so appears on top\n",
    "        plot.scatter(x, y, function_to_optimize(x, y) + 0.01, c='y', marker='^', s=80)\n",
    "        \n",
    "    # Return minimum found amongst all hill climbing attempts\n",
    "    return min_x, min_y"
   ]
  },
  {
   "cell_type": "code",
   "execution_count": 4,
   "metadata": {
    "collapsed": false
   },
   "outputs": [],
   "source": [
    "# This function determines if a move is acceptable in simulated annealing\n",
    "def annealing_probability(new_value, old_value, current_temp):\n",
    "    import random\n",
    "    import math\n",
    "    \n",
    "    # Calculate probability\n",
    "    if new_value < old_value:\n",
    "        # Moving downhill, so just do it\n",
    "        return True\n",
    "    elif current_temp == 0 and new_value > old_value:\n",
    "        # Temperature is 0 and moving uphill, so won't happen\n",
    "        return False\n",
    "    else:\n",
    "        # General case\n",
    "        # Seed random number generator\n",
    "        random.seed()\n",
    "        prob = math.e**(-(new_value - old_value) / current_temp)\n",
    "        # Pick random number, and if probability is greater, allow\n",
    "        return prob > random.uniform(0, 1.0)\n",
    "    \n",
    "    "
   ]
  },
  {
   "cell_type": "code",
   "execution_count": 15,
   "metadata": {
    "collapsed": true
   },
   "outputs": [],
   "source": [
    "def simulated_annealing(function_to_optimize, step_size, max_temp, xmin, xmax, ymin, ymax, plot=None):\n",
    "    from mpl_toolkits.mplot3d import Axes3D\n",
    "    import matplotlib.pyplot as pyplot\n",
    "    import random\n",
    "    random.seed()\n",
    "    \n",
    "    # Current value of function (starts at minimum position)\n",
    "    current_value = function_to_optimize(xmin, ymin)\n",
    "            \n",
    "    # Current x and y start at minimum\n",
    "    x = xmin\n",
    "    y = ymin\n",
    "    finished = False\n",
    "    # Start temp at max temp\n",
    "    current_temp = max_temp\n",
    "    \n",
    "    # Plot new position\n",
    "    if plot != None:\n",
    "        plot.scatter(x, y, function_to_optimize(x, y), c='r')\n",
    "    \n",
    "    while not finished:\n",
    "        # pick new spot to move to\n",
    "        if current_temp > 0:\n",
    "            newx = random.uniform(xmin, xmax)\n",
    "            newy = random.uniform(ymin, ymax)\n",
    "            if annealing_probability(function_to_optimize(newx, newy), current_value, current_temp):\n",
    "                # Move to new location accepted\n",
    "                x = newx\n",
    "                y = newy\n",
    "                current_value = function_to_optimize(x, y)\n",
    "            \n",
    "            # Determine new current value\n",
    "            current_value = function_to_optimize(x, y)\n",
    "        \n",
    "            # Plot new position\n",
    "            if plot != None:\n",
    "                plot.scatter(x, y, current_value, c='r')\n",
    "            \n",
    "            # Reduce temperature and keep >= 0\n",
    "            current_temp -= step_size\n",
    "            current_temp = max(0, current_temp)\n",
    "        else:\n",
    "            # Hill climb rest of the way\n",
    "            min_x, min_y = hill_climb_iteration(function_to_optimize, step_size, x, y, xmin, xmax, ymin, ymax, plot)\n",
    "            finished = True\n",
    "            \n",
    "    if plot != None:\n",
    "        # Offset z a little so appears on top\n",
    "        plot.scatter(x, y, function_to_optimize(x, y) + 0.01, c='y', marker='^', s=80)\n",
    "        \n",
    "    # The last value is the minimum\n",
    "    return min_x, min_y"
   ]
  },
  {
   "cell_type": "code",
   "execution_count": 6,
   "metadata": {
    "collapsed": false
   },
   "outputs": [],
   "source": [
    "def plot_graph(graph_function, x_start, x_end, y_start, y_end, samples, wire_frame = True):\n",
    "    import numpy\n",
    "    from mpl_toolkits.mplot3d import Axes3D\n",
    "    import matplotlib.pyplot as pyplot\n",
    "    \n",
    "    # Convert Python function to numpy function\n",
    "    func = numpy.frompyfunc(graph_function, 2, 1)\n",
    "    # Get X, Y, and Z values to plot\n",
    "    X = numpy.linspace(x_start, x_end, num=samples);\n",
    "    Y = numpy.linspace(y_start, y_end, num=samples);\n",
    "    X, Y = numpy.meshgrid(X, Y)\n",
    "    Z = func(X, Y);\n",
    "\n",
    "    # Create the pyplot and display it\n",
    "    fig = pyplot.figure()\n",
    "    ax = fig.add_subplot(111, projection='3d')\n",
    "    \n",
    "    if (wire_frame):\n",
    "        ax.plot_wireframe(X, Y, Z, rstride=1, cstride=1, color='b', linewidth=1)\n",
    "    else:\n",
    "        ax.plot_surface(X, Y, Z, rstride=1, cstride=1, color='b', linewidth=0.1)\n",
    "    \n",
    "    return ax"
   ]
  },
  {
   "cell_type": "code",
   "execution_count": 7,
   "metadata": {
    "collapsed": false
   },
   "outputs": [],
   "source": [
    "def test_func(x, y):\n",
    "    import math\n",
    "    r = math.sqrt(x**2 + y**2)\n",
    "    return (math.sin(x**2 + 3 * y**2) / (0.1 + r**2)) + (x**2 + 5 * y**2) * (math.e**(1 - r**2)) / 2"
   ]
  },
  {
   "cell_type": "code",
   "execution_count": 21,
   "metadata": {
    "collapsed": false
   },
   "outputs": [
    {
     "name": "stdout",
     "output_type": "stream",
     "text": [
      "(2.1730797510245496, 0.00018735533511959196)\n"
     ]
    }
   ],
   "source": [
    "from mpl_toolkits.mplot3d import Axes3D\n",
    "import matplotlib.pyplot as pyplot\n",
    "\n",
    "# Plot solid graph\n",
    "#plot = plot_graph(test_func, -2.5, 2.5, -2.5, 2.5, 40, False)\n",
    "# Plot the wireframe graph for path plotting\n",
    "plot = plot_graph(test_func, -2.5, 2.5, -2.5, 2.5, 40, True)\n",
    "# Do straight up hillclimbing\n",
    "#print(hill_climb(test_func, 0.01, -2.5, 2.5, -2.5, 2.5, plot))\n",
    "# Do hillclimbing with random restarts\n",
    "#print(hill_climb_random_restart(test_func, 0.01, 10, -2.5, 2.5, -2.5, 2.5, plot))\n",
    "# Do simulated annealing\n",
    "print(simulated_annealing(test_func, 0.001, 2, -2.5, 2.5, -2.5, 2.5, plot))\n",
    "\n",
    "pyplot.show()"
   ]
  }
 ],
 "metadata": {
  "kernelspec": {
   "display_name": "Python 3",
   "language": "python",
   "name": "python3"
  },
  "language_info": {
   "codemirror_mode": {
    "name": "ipython",
    "version": 3
   },
   "file_extension": ".py",
   "mimetype": "text/x-python",
   "name": "python",
   "nbconvert_exporter": "python",
   "pygments_lexer": "ipython3",
   "version": "3.5.1"
  }
 },
 "nbformat": 4,
 "nbformat_minor": 0
}
